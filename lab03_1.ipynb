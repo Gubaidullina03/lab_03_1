{
  "nbformat": 4,
  "nbformat_minor": 0,
  "metadata": {
    "colab": {
      "provenance": [],
      "authorship_tag": "ABX9TyOUGyjykkW8R3CjDVUyIcGv",
      "include_colab_link": true
    },
    "kernelspec": {
      "name": "python3",
      "display_name": "Python 3"
    },
    "language_info": {
      "name": "python"
    }
  },
  "cells": [
    {
      "cell_type": "markdown",
      "metadata": {
        "id": "view-in-github",
        "colab_type": "text"
      },
      "source": [
        "<a href=\"https://colab.research.google.com/github/Gubaidullina03/lab_03_1/blob/main/lab03_1.ipynb\" target=\"_parent\"><img src=\"https://colab.research.google.com/assets/colab-badge.svg\" alt=\"Open In Colab\"/></a>"
      ]
    },
    {
      "cell_type": "code",
      "source": [
        "# Задание task_03_01_01.\n",
        "#\n",
        "# Выполнила: Губайдуллина А.И.\n",
        "# Группа: АБП-231\n",
        "\n",
        "def reverse_string(s):\n",
        "    return s[::-1]\n",
        "\n",
        "\n",
        "print(reverse_string(\"бизнес-информатика\"))\n"
      ],
      "metadata": {
        "colab": {
          "base_uri": "https://localhost:8080/"
        },
        "id": "VhmiFhOJBb9W",
        "outputId": "b6c4beec-38e7-4d34-95cf-fa299099ac21"
      },
      "execution_count": 16,
      "outputs": [
        {
          "output_type": "stream",
          "name": "stdout",
          "text": [
            "акитамрофни-сензиб\n"
          ]
        }
      ]
    },
    {
      "cell_type": "code",
      "source": [
        "# Задание task_03_01_02.\n",
        "#\n",
        "# Выполнила: Губайдуллина А.И.\n",
        "# Группа: АБП-231\n",
        "\n",
        "def count_words(sentence):\n",
        "    return len(sentence.split())\n",
        "\n",
        "\n",
        "text = \"  Это пример   предложения для подсчета слов!  \"\n",
        "print(count_words(text))\n"
      ],
      "metadata": {
        "colab": {
          "base_uri": "https://localhost:8080/"
        },
        "id": "Ko3kjYQzCAGG",
        "outputId": "155b52dd-37c6-4b70-d9e3-4e12859bfa15"
      },
      "execution_count": 17,
      "outputs": [
        {
          "output_type": "stream",
          "name": "stdout",
          "text": [
            "6\n"
          ]
        }
      ]
    },
    {
      "cell_type": "code",
      "source": [
        "# Задание task_03_01_03.\n",
        "#\n",
        "# Выполнила: Губайдуллина А.И.\n",
        "# Группа: АБП-231\n",
        "\n",
        "import random\n",
        "\n",
        "def choose_random_element(input_list):\n",
        "    return random.choice(input_list)\n",
        "\n",
        "\n",
        "my_list = [\"apple\", \"banana\", \"cherry\", \"date\"]\n",
        "print(f\"Список: {my_list}\")\n",
        "print(f\"Случайный элемент: {choose_random_element(my_list)}\")\n"
      ],
      "metadata": {
        "colab": {
          "base_uri": "https://localhost:8080/"
        },
        "id": "t7uTrfJJCpZT",
        "outputId": "aa64f07a-d3c3-4f82-937d-93742f9fe1f4"
      },
      "execution_count": 18,
      "outputs": [
        {
          "output_type": "stream",
          "name": "stdout",
          "text": [
            "Список: ['apple', 'banana', 'cherry', 'date']\n",
            "Случайный элемент: date\n"
          ]
        }
      ]
    },
    {
      "cell_type": "code",
      "source": [
        "# Задание task_03_01_04.\n",
        "#\n",
        "# Выполнила: Губайдуллина А.И.\n",
        "# Группа: АБП-231\n",
        "\n",
        "def get_unique_elements(input_list):\n",
        "\n",
        "    return list(set(input_list))\n",
        "\n",
        "\n",
        "my_list = [1, 2, 3, 2, 4, 3, 5, 1]\n",
        "print(get_unique_elements(my_list))"
      ],
      "metadata": {
        "colab": {
          "base_uri": "https://localhost:8080/"
        },
        "id": "bOJ4rHMvC9mr",
        "outputId": "68a135af-6582-43c0-edb7-4291b4ee51d0"
      },
      "execution_count": 19,
      "outputs": [
        {
          "output_type": "stream",
          "name": "stdout",
          "text": [
            "[1, 2, 3, 4, 5]\n"
          ]
        }
      ]
    },
    {
      "cell_type": "code",
      "source": [
        "# Задание task_03_01_05.\n",
        "#\n",
        "# Выполнила: Губайдуллина А.И.\n",
        "# Группа: АБП-231\n",
        "\n",
        "def is_palindrome(s):\n",
        "    # Приводим к нижнему регистру и удаляем пробелы\n",
        "    cleaned_string = ''.join(s.lower().split())\n",
        "    # Сравниваем строку с её перевернутой версией\n",
        "    return cleaned_string == cleaned_string[::-1]\n",
        "\n",
        "\n",
        "print(is_palindrome(\"А роза упала на лапу Азора\"))\n",
        "print(is_palindrome(\"Привет мир\"))"
      ],
      "metadata": {
        "colab": {
          "base_uri": "https://localhost:8080/"
        },
        "id": "bwMDvRx8DNAv",
        "outputId": "b477e9ee-706d-4398-cc81-2626f3c3ea8e"
      },
      "execution_count": 20,
      "outputs": [
        {
          "output_type": "stream",
          "name": "stdout",
          "text": [
            "True\n",
            "False\n"
          ]
        }
      ]
    },
    {
      "cell_type": "code",
      "source": [
        "# Задание task_03_01_06.\n",
        "#\n",
        "# Выполнила: Губайдуллина А.И.\n",
        "# Группа: АБП-231\n",
        "\n",
        "def format_product_code(code):\n",
        "    # Приводим к верхнему регистру и вставляем дефисы в нужных позициях\n",
        "    return f\"{code[:3].upper()}-{code[3:6]}-{code[6:].upper()}\"\n",
        "\n",
        "\n",
        "print(format_product_code(\"xyz123ab\"))\n"
      ],
      "metadata": {
        "colab": {
          "base_uri": "https://localhost:8080/"
        },
        "id": "1Iv8fklMDlPx",
        "outputId": "b02a7914-596d-4f4d-c2fe-5689ee750aa7"
      },
      "execution_count": 25,
      "outputs": [
        {
          "output_type": "stream",
          "name": "stdout",
          "text": [
            "XYZ-123-AB\n"
          ]
        }
      ]
    },
    {
      "cell_type": "code",
      "source": [
        "# Задание task_03_01_07.\n",
        "#\n",
        "# Выполнила: Губайдуллина А.И.\n",
        "# Группа: АБП-231\n",
        "\n",
        "def calculate_average(numbers):\n",
        "    return sum(numbers) / len(numbers)\n",
        "\n",
        "\n",
        "my_numbers = [10, 20, 30, 40, 50]\n",
        "print(f\"{calculate_average(my_numbers):.2f}\")\n"
      ],
      "metadata": {
        "colab": {
          "base_uri": "https://localhost:8080/"
        },
        "id": "rVfRsD-fESRo",
        "outputId": "d924c310-adc0-4e7c-d4f0-4bca4b96fb4a"
      },
      "execution_count": 26,
      "outputs": [
        {
          "output_type": "stream",
          "name": "stdout",
          "text": [
            "30.00\n"
          ]
        }
      ]
    },
    {
      "cell_type": "code",
      "source": [
        "# Задание task_03_01_08.\n",
        "#\n",
        "# Выполнила: Губайдуллина А.И.\n",
        "# Группа: АБП-231\n",
        "\n",
        "def censor_text(text, stop_words):\n",
        "    words = text.split()\n",
        "    result = []\n",
        "\n",
        "    for word in words:\n",
        "        # Убираем знаки препинания для проверки\n",
        "        clean_word = word.rstrip('.,!?;:')\n",
        "        if clean_word.lower() in [sw.lower() for sw in stop_words]:\n",
        "            # Заменяем слово на одну звездочку\n",
        "            result.append('*' + word[len(clean_word):])\n",
        "        else:\n",
        "            result.append(word)\n",
        "\n",
        "    return ' '.join(result)\n",
        "\n",
        "\n",
        "text = \"Этот плохой пример содержит плохие слова.\"\n",
        "stop_list = [\"плохой\", \"плохие\"]\n",
        "print(censor_text(text, stop_list))\n"
      ],
      "metadata": {
        "colab": {
          "base_uri": "https://localhost:8080/"
        },
        "id": "dMwizAThEkH5",
        "outputId": "633ea53b-4f2c-4ce1-c538-96a6230720ff"
      },
      "execution_count": 28,
      "outputs": [
        {
          "output_type": "stream",
          "name": "stdout",
          "text": [
            "Этот * пример содержит * слова.\n"
          ]
        }
      ]
    },
    {
      "cell_type": "code",
      "source": [
        "# Задание task_03_01_09.\n",
        "#\n",
        "# Выполнила: Губайдуллина А.И.\n",
        "# Группа: АБП-231\n",
        "\n",
        "def generate_corporate_email(first_name, last_name):\n",
        "\n",
        "    # Берем первую букву имени и всю фамилию в нижнем регистре\n",
        "    first_initial = first_name[0].lower()\n",
        "    last_name_lower = last_name.lower()\n",
        "\n",
        "    return f\"{first_initial}.{last_name_lower}@company.com\"\n",
        "\n",
        "\n",
        "print(generate_corporate_email(\"Иван\", \"Петров\"))\n"
      ],
      "metadata": {
        "colab": {
          "base_uri": "https://localhost:8080/"
        },
        "id": "XXrh5ArWFK7F",
        "outputId": "07b5c9e6-7501-454e-92fe-7b9ce29c10c3"
      },
      "execution_count": 31,
      "outputs": [
        {
          "output_type": "stream",
          "name": "stdout",
          "text": [
            "и.петров@company.com\n"
          ]
        }
      ]
    },
    {
      "cell_type": "code",
      "source": [
        "# Задание task_03_01_10.\n",
        "#\n",
        "# Выполнила: Губайдуллина А.И.\n",
        "# Группа: АБП-231\n",
        "\n",
        "def filter_long_strings(strings):\n",
        "    return [s for s in strings if len(s) > 5]\n",
        "\n",
        "\n",
        "word_list = [\"аналитика\", \"данные\", \"отчет\", \"бизнес\", \"план\", \"модель\"]\n",
        "print(filter_long_strings(word_list))\n"
      ],
      "metadata": {
        "colab": {
          "base_uri": "https://localhost:8080/"
        },
        "id": "lRR8SS9NFr1j",
        "outputId": "d48752cb-7af9-4195-cbb8-c46643da0b39"
      },
      "execution_count": 32,
      "outputs": [
        {
          "output_type": "stream",
          "name": "stdout",
          "text": [
            "['аналитика', 'данные', 'бизнес', 'модель']\n"
          ]
        }
      ]
    },
    {
      "cell_type": "code",
      "source": [
        "# Задание task_03_01_11.\n",
        "#\n",
        "# Выполнила: Губайдуллина А.И.\n",
        "# Группа: АБП-231\n",
        "\n",
        "def create_acronym(phrase):\n",
        "\n",
        "    words = phrase.split()\n",
        "    acronym = ''.join(word[0].upper() for word in words)\n",
        "    return acronym\n",
        "\n",
        "\n",
        "print(create_acronym(\"Key Performance Indicator\"))  # KPI\n",
        "print(create_acronym(\"business process modeling notation\"))  # BPMN"
      ],
      "metadata": {
        "colab": {
          "base_uri": "https://localhost:8080/"
        },
        "id": "Kd0VCvAxGBCo",
        "outputId": "e8a6b344-e8ac-4d6d-bd90-21ceff04d01c"
      },
      "execution_count": 33,
      "outputs": [
        {
          "output_type": "stream",
          "name": "stdout",
          "text": [
            "KPI\n",
            "BPMN\n"
          ]
        }
      ]
    },
    {
      "cell_type": "code",
      "source": [
        "# Задание task_03_01_12.\n",
        "#\n",
        "# Выполнила: Губайдуллина А.И.\n",
        "# Группа: АБП-231\n",
        "\n",
        "def format_phone_number(phone):\n",
        "    return f\"+7 ({phone[1:4]}) {phone[4:7]}-{phone[7:9]}-{phone[9:]}\"\n",
        "\n",
        "\n",
        "print(format_phone_number(\"89211234567\"))  # +7 (921) 123-45-67\n"
      ],
      "metadata": {
        "colab": {
          "base_uri": "https://localhost:8080/"
        },
        "id": "CUd_DR_kGhv0",
        "outputId": "d44f16f0-89a9-4ed2-c9ef-ddd2cc1ce1f2"
      },
      "execution_count": 34,
      "outputs": [
        {
          "output_type": "stream",
          "name": "stdout",
          "text": [
            "+7 (921) 123-45-67\n"
          ]
        }
      ]
    },
    {
      "cell_type": "code",
      "source": [
        "# Задание task_03_01_13.\n",
        "#\n",
        "# Выполнила: Губайдуллина А.И.\n",
        "# Группа: АБП-231\n",
        "\n",
        "def parse_csv_row(csv_row):\n",
        "    return csv_row.split(',')\n",
        "\n",
        "\n",
        "row = \"Иванов,Иван,35,Менеджер\"\n",
        "print(parse_csv_row(row))  # ['Иванов', 'Иван', '35', 'Менеджер']"
      ],
      "metadata": {
        "colab": {
          "base_uri": "https://localhost:8080/"
        },
        "id": "U_A5IwozGx95",
        "outputId": "71532347-e6bd-48ce-8c32-997930dfddeb"
      },
      "execution_count": 35,
      "outputs": [
        {
          "output_type": "stream",
          "name": "stdout",
          "text": [
            "['Иванов', 'Иван', '35', 'Менеджер']\n"
          ]
        }
      ]
    },
    {
      "cell_type": "code",
      "source": [
        "# Задание task_03_01_14.\n",
        "#\n",
        "# Выполнила: Губайдуллина А.И.\n",
        "# Группа: АБП-231\n",
        "\n",
        "def find_longest_word(words):\n",
        "    longest_word = \"\"\n",
        "    for word in words:\n",
        "        if len(word) > len(longest_word):\n",
        "            longest_word = word\n",
        "    return longest_word\n",
        "\n",
        "\n",
        "word_list = [\"аналитика\", \"данные\", \"отчет\", \"бизнес\", \"модель\", \"прогнозирование\"]\n",
        "print(find_longest_word(word_list))  # прогнозирование"
      ],
      "metadata": {
        "colab": {
          "base_uri": "https://localhost:8080/"
        },
        "id": "jZwHEnoMHCN6",
        "outputId": "94a8016a-b678-4a4b-8978-ed34a362a714"
      },
      "execution_count": 36,
      "outputs": [
        {
          "output_type": "stream",
          "name": "stdout",
          "text": [
            "прогнозирование\n"
          ]
        }
      ]
    },
    {
      "cell_type": "code",
      "source": [
        "# Задание task_03_01_15.\n",
        "#\n",
        "# Выполнила: Губайдуллина А.И.\n",
        "# Группа: АБП-231\n",
        "\n",
        "def mask_card_number(card_number):\n",
        "\n",
        "    return \"************\" + card_number[-4:]\n",
        "\n",
        "\n",
        "print(mask_card_number(\"4567890123456789\"))"
      ],
      "metadata": {
        "colab": {
          "base_uri": "https://localhost:8080/"
        },
        "id": "E5bvQToaHSRd",
        "outputId": "89588768-d976-4b9c-8ed9-0b9931d77061"
      },
      "execution_count": 37,
      "outputs": [
        {
          "output_type": "stream",
          "name": "stdout",
          "text": [
            "************6789\n"
          ]
        }
      ]
    },
    {
      "cell_type": "code",
      "source": [
        "# Задание task_03_01_16.\n",
        "#\n",
        "# Выполнила: Губайдуллина А.И.\n",
        "# Группа: АБП-231\n",
        "\n",
        "def sort_by_last_name(names):\n",
        "\n",
        "    return sorted(names, key=lambda name: name.split()[1])\n",
        "\n",
        "\n",
        "name_list = [\"Иван Петров\", \"Анна Сидорова\", \"Петр Иванов\", \"Мария Алексеева\"]\n",
        "print(sort_by_last_name(name_list))  # ['Мария Алексеева', 'Петр Иванов', 'Иван Петров', 'Анна Сидорова']"
      ],
      "metadata": {
        "colab": {
          "base_uri": "https://localhost:8080/"
        },
        "id": "tyI5D9EIHob8",
        "outputId": "e8f7a237-4b79-4341-e259-3728b5b8629f"
      },
      "execution_count": 38,
      "outputs": [
        {
          "output_type": "stream",
          "name": "stdout",
          "text": [
            "['Мария Алексеева', 'Петр Иванов', 'Иван Петров', 'Анна Сидорова']\n"
          ]
        }
      ]
    },
    {
      "cell_type": "code",
      "source": [
        "# Задание task_03_01_17.\n",
        "#\n",
        "# Выполнила: Губайдуллина А.И.\n",
        "# Группа: АБП-231\n",
        "\n",
        "def flatten_list(nested_list):\n",
        "    result = []\n",
        "    for item in nested_list:\n",
        "        if isinstance(item, list):\n",
        "            result.extend(flatten_list(item))\n",
        "        else:\n",
        "            result.append(item)\n",
        "    return result\n",
        "\n",
        "\n",
        "matrix = [[1, 2, 3], [4, 5], [6, 7, 8, 9]]\n",
        "print(flatten_list(matrix))"
      ],
      "metadata": {
        "colab": {
          "base_uri": "https://localhost:8080/"
        },
        "id": "ILlvzJpGH60F",
        "outputId": "60657324-9b07-4365-c894-ed4dc4fd5490"
      },
      "execution_count": 39,
      "outputs": [
        {
          "output_type": "stream",
          "name": "stdout",
          "text": [
            "[1, 2, 3, 4, 5, 6, 7, 8, 9]\n"
          ]
        }
      ]
    },
    {
      "cell_type": "code",
      "source": [
        "# Задание task_03_01_18.\n",
        "#\n",
        "# Выполнила: Губайдуллина А.И.\n",
        "# Группа: АБП-231\n",
        "\n",
        "def remove_punctuation(text):\n",
        "\n",
        "    import string\n",
        "    return ''.join(char for char in text if char not in string.punctuation)\n",
        "\n",
        "\n",
        "input_text = \"Привет, мир! Как твои дела, Python?\"\n",
        "print(remove_punctuation(input_text))"
      ],
      "metadata": {
        "colab": {
          "base_uri": "https://localhost:8080/"
        },
        "id": "sbwHgbwzIUKW",
        "outputId": "35cd7b08-4054-453b-de07-dde3b144667b"
      },
      "execution_count": 40,
      "outputs": [
        {
          "output_type": "stream",
          "name": "stdout",
          "text": [
            "Привет мир Как твои дела Python\n"
          ]
        }
      ]
    },
    {
      "cell_type": "code",
      "source": [
        "# Задание task_03_01_19.\n",
        "#\n",
        "# Выполнила: Губайдуллина А.И.\n",
        "# Группа: АБП-231\n",
        "\n",
        "def merge_and_sort_unique(list1, list2):\n",
        "    return sorted(set(list1 + list2))\n",
        "\n",
        "\n",
        "list_a = [3, 1, 5, 2, 5]\n",
        "list_b = [8, 2, 4, 1, 6]\n",
        "print(merge_and_sort_unique(list_a, list_b))"
      ],
      "metadata": {
        "colab": {
          "base_uri": "https://localhost:8080/"
        },
        "id": "fFsS2cdYIvKt",
        "outputId": "66f48493-cfde-4744-8411-18f26457eddf"
      },
      "execution_count": 41,
      "outputs": [
        {
          "output_type": "stream",
          "name": "stdout",
          "text": [
            "[1, 2, 3, 4, 5, 6, 8]\n"
          ]
        }
      ]
    },
    {
      "cell_type": "code",
      "source": [
        "# Задание task_03_01_20.\n",
        "#\n",
        "# Выполнила: Губайдуллина А.И.\n",
        "# Группа: АБП-231\n",
        "\n",
        "def extract_hashtags(text):\n",
        "\n",
        "    words = text.split()\n",
        "    return [word[1:] for word in words if word.startswith('#')]\n",
        "\n",
        "\n",
        "post = \"Сегодня отличный день! #python #программирование #бизнесинформатика\"\n",
        "print(extract_hashtags(post))"
      ],
      "metadata": {
        "colab": {
          "base_uri": "https://localhost:8080/"
        },
        "id": "tEQm5-9cJE46",
        "outputId": "b191af9e-b4c6-4e79-f04e-89df17c11d1b"
      },
      "execution_count": 42,
      "outputs": [
        {
          "output_type": "stream",
          "name": "stdout",
          "text": [
            "['python', 'программирование', 'бизнесинформатика']\n"
          ]
        }
      ]
    }
  ]
}